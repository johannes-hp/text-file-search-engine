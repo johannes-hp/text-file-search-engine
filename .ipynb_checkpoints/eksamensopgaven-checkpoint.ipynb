{
 "cells": [
  {
   "cell_type": "code",
   "execution_count": 1,
   "metadata": {},
   "outputs": [],
   "source": [
    "def indexing(file): #tager et filobjekt som argument\n",
    "    textlist = file.read().lower().split() #lægger filens indhold ind på en liste i lowercase\n",
    "    import string\n",
    "    with open('stopord.txt') as stopord, open('forkortelser.txt') as forkortelser:\n",
    "        forkortelser_list = forkortelser.read().split()\n",
    "        stopord_list = stopord.read().split()\n",
    "        \n",
    "        for index, word in enumerate(textlist):\n",
    "            if word not in forkortelser_list:\n",
    "                textlist[index] = word.strip(string.punctuation) #fjerner tegn fra ord - ikke forkortelser\n",
    "        textlist = [word for word in textlist if word not in stopord_list] #fjerner stopord fra tekstlisten\n",
    "                \n",
    "    return textlist"
   ]
  },
  {
   "cell_type": "code",
   "execution_count": 2,
   "metadata": {},
   "outputs": [],
   "source": [
    "def file_wordfreq(textfiles): #tager en liste over tekstfiler som argument\n",
    "    file_wordfreq = {} #tom dict til at komme filnavne og indlejret dict med ord og frekvenser i \n",
    "    for textfile in textfiles: #loop over hver tekstfil\n",
    "        if 'stopord' in textfile or 'forkortelser' in textfile or 'forespoergsler' in textfile:\n",
    "            continue #disse filer er ikke til at søge i, så funktionen springer dem over\n",
    "        else:\n",
    "            with open(textfile, encoding='utf-8-sig') as f: #åbner filen og fjerner BOM\n",
    "                wordfreq = {} #tom dict til at komme ord og frekvenser i\n",
    "                textlist = indexing(f) #ordene på listen indekseres med indexing-funktionen\n",
    "                for word in textlist:\n",
    "                    if word not in wordfreq:\n",
    "                        wordfreq[word] = 1 #ord, der ikke allerede er i dicten, lægges ind med frekvens 1 \n",
    "                    else:\n",
    "                        wordfreq[word] += 1 #ord, der er i dicten, får lagt 1 til deres frekvens\n",
    "                        \n",
    "        file_wordfreq[textfile] = wordfreq \n",
    "        #hvert filnavn lægges ind som key i dicten file_wordfreq,\n",
    "        #mens value er en indlejret dict med filens ord og deres frekvens\n",
    "\n",
    "    return file_wordfreq"
   ]
  },
  {
   "cell_type": "code",
   "execution_count": 9,
   "metadata": {},
   "outputs": [],
   "source": [
    "def search_routine():\n",
    "    \n",
    "    import os \n",
    "    textfiles = [el for el in os.listdir(os.getcwd()) if el.endswith('.txt')] \n",
    "    #listen over filer i cwd opdateres til kun at indeholde .txt-filer\n",
    "    \n",
    "    import pandas as pd\n",
    "    df = pd.DataFrame(file_wordfreq(textfiles)) #dataframe over file_wordfreq\n",
    "    df = df.fillna(0) #felter i df uden værdi gives 0 i værdi\n",
    "\n",
    "    search_word = input('Hvad er dit søgeord? Skriv \\'exit\\' for at stoppe programmet: ').lower()\n",
    "    if search_word == 'exit':\n",
    "        return print('Du har lukket programmet.')\n",
    "        \n",
    "    try: #try gør, at programmet kan lave en exception i stedet for at crashe, hvis søgeordet ikke findes    \n",
    "        search_results = {} #tom dict til søgeresultater\n",
    "        for text in df.columns:\n",
    "            if df.loc[search_word, text] > 0: #tjekker, om søgeordet forekommer ud fra teksten i dataframen\n",
    "                search_results[text] = df.loc[search_word, text] \n",
    "                #filnavnet kommer ind som key og ordets frekvens kommer ind som value i dicten search_results           \n",
    "        search_results_list = sorted(search_results.items(), key = lambda x: x[-1], reverse = True) \n",
    "        #listen er sorteret, så den går fra højest frekvens mod lavest\n",
    "        #den består af tuples med filnavn først og ordets frekvens sidst\n",
    "        \n",
    "        print('\\nDit søgeord', search_word.upper(), 'findes i følgende dokumenter:') \n",
    "        for index, el in enumerate(search_results_list):\n",
    "            print(index + 1, el[0], 'med frekvensen', int(el[-1])) \n",
    "            #søgeordets frekvens i hver tekst printes og hver fil gives et tal, så de kan åbnes af brugeren\n",
    "       \n",
    "        search_files_list = input('''\\nSkriv tallet ud for filnavnet for at se filindholdet.\n",
    "        \\nSkriv evt. flere tal adskilt af mellemrum eller skriv \\'exit\\' for at søge igen: ''').lower().split() \n",
    "        #brugerens filtal laves til en liste \n",
    "        if search_files_list == ['exit']:\n",
    "            print('\\nDu kan nu søge igen.')\n",
    "        else:\n",
    "            print()\n",
    "            for num in search_files_list: #loop over brugerens angivne filtal\n",
    "                with open(search_results_list[int(num)-1][0]) as f: \n",
    "                    #åbner den angivne fil ved at trække 1 fra brugerens tal, så det svarer til indekset\n",
    "                    #første del af hver tuple på listen indeholder filnavnet\n",
    "                    print(num, search_results_list[int(num)-1][0].upper()) #filtallet og filnavnet i caps\n",
    "                    print(f.read())\n",
    "                    print()\n",
    "            print('\\nDu kan nu søge igen.')\n",
    "            \n",
    "    except: #hvis søgeordet ikke findes, undgår programmet at crashe pga. denne exception\n",
    "        with open('stopord.txt') as stopord:\n",
    "            stopord_list = stopord.read().split()\n",
    "            if search_word in stopord_list:\n",
    "                print('Søgeordet', search_word.upper(), 'er et stopord og kan ikke søges på.\\n')\n",
    "            else:\n",
    "                print('Søgeordet', search_word.upper(), 'forekommer ikke i nogen dokumenter.\\n')\n",
    "    \n",
    "   \n",
    "    \n",
    "    search_routine()\n",
    "    "
   ]
  },
  {
   "cell_type": "code",
   "execution_count": 13,
   "metadata": {},
   "outputs": [
    {
     "name": "stdout",
     "output_type": "stream",
     "text": [
      "Hvad er dit søgeord? Skriv 'exit' for at stoppe programmet: ernæring\n",
      "Søgeordet ERNÆRING forekommer ikke i nogen dokumenter.\n",
      "\n",
      "Hvad er dit søgeord? Skriv 'exit' for at stoppe programmet: mig\n",
      "Søgeordet MIG er et stopord og kan ikke søges på.\n",
      "\n",
      "Hvad er dit søgeord? Skriv 'exit' for at stoppe programmet: exit\n",
      "Du har lukket programmet.\n"
     ]
    }
   ],
   "source": [
    "search_routine()"
   ]
  },
  {
   "cell_type": "code",
   "execution_count": null,
   "metadata": {},
   "outputs": [],
   "source": []
  }
 ],
 "metadata": {
  "kernelspec": {
   "display_name": "Python 3",
   "language": "python",
   "name": "python3"
  },
  "language_info": {
   "codemirror_mode": {
    "name": "ipython",
    "version": 3
   },
   "file_extension": ".py",
   "mimetype": "text/x-python",
   "name": "python",
   "nbconvert_exporter": "python",
   "pygments_lexer": "ipython3",
   "version": "3.8.3"
  }
 },
 "nbformat": 4,
 "nbformat_minor": 4
}
